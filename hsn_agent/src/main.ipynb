{
 "cells": [
  {
   "cell_type": "code",
   "execution_count": 1,
   "id": "adadb608",
   "metadata": {},
   "outputs": [],
   "source": [
    "from tools.clean_norm import (\n",
    "    compute_hierarchy_levels,\n",
    "    normalize_and_prepare_display,\n",
    "    attach_policy_links,\n",
    ")\n",
    "from tools.excel_to_hierarchy import build_hierarchy\n",
    "from tools.json_flatten import flatten_hsn_json_with_inherited\n",
    "import pandas as pd\n",
    "import json"
   ]
  },
  {
   "cell_type": "code",
   "execution_count": 8,
   "id": "a0d76fd9",
   "metadata": {},
   "outputs": [],
   "source": [
    "input_path=\"/Users/nithinvadekkapat/work/cargoa/hsn_agent/data/input\"\n",
    "input_file=\"Chapter_25.xlsx\"\n",
    "output_path=\"/Users/nithinvadekkapat/work/cargoa/hsn_agent/data/output\""
   ]
  },
  {
   "cell_type": "code",
   "execution_count": null,
   "id": "6c79b57f",
   "metadata": {},
   "outputs": [],
   "source": [
    "df = pd.read_excel(f\"{input_path}/{input_file}\")\n",
    "# 1) First, normalize your headers:\n",
    "df.columns = df.columns.str.strip().str.replace(  # trim leading/trailing spaces\n",
    "    r\"\\s+\", \" \", regex=True\n",
    ")  # collapse inner whitespace\n",
    "\n",
    "# 2) Then apply this mapping:\n",
    "col_mapping = {\n",
    "    \"HS Code\": \"hs_code\",\n",
    "    \"Item Description\": \"item_description\",\n",
    "    \"Level\": \"level\",\n",
    "    \"Unit\": \"unit\",\n",
    "    \"Basic Duty (SCH)\": \"basic_duty_sch_pct\",\n",
    "    \"Basic Duty (NTFN)\": \"basic_duty_ntfn_pct\",\n",
    "    \"Specific Duty (Rs)\": \"specific_duty_inr\",\n",
    "    \"IGST\": \"igst_pct\",\n",
    "    \"10% SWS\": \"sws_10pct\",\n",
    "    \"10%SWS\": \"sws_10pct\",\n",
    "    \"Total duty with SWS of 10% on BCD\": \"total_duty_sws_10pct_on_bcd\",\n",
    "    \"Total Duty Specific\": \"total_duty_specific_pct\",\n",
    "    \"Pref. Duty (A)\": \"pref_duty_a_pct\",\n",
    "    \"Import Policy\": \"import_policy\",\n",
    "    \"Export Policy\": \"export_policy\",\n",
    "    \"Non Tariff Barriers\": \"non_tariff_barriers\",\n",
    "    \"Remark\": \"remark\",\n",
    "}\n",
    "\n",
    "df = df.rename(columns=col_mapping)\n"
   ]
  },
  {
   "cell_type": "code",
   "execution_count": null,
   "id": "7676935c",
   "metadata": {},
   "outputs": [],
   "source": [
    "# Normalize and prepare display\n",
    "df = normalize_and_prepare_display(df)\n",
    "# Attach policy links\n",
    "df = attach_policy_links(df)\n",
    "\n",
    "# compute hierarchy levels\n",
    "df = compute_hierarchy_levels(df)\n",
    "\n",
    "# Define columns to drop\n",
    "cols_to_drop = [\n",
    "    \"basic_duty_sch_pct\",\n",
    "    \"basic_duty_ntfn_pct\",\n",
    "    \"specific_duty_inr\",\n",
    "    \"igst_pct\",\n",
    "    \"sws_10pct\",\n",
    "    \"total_duty_sws_10pct_on_bcd\",\n",
    "    \"total_duty_specific_pct\",\n",
    "    \"pref_duty_a_pct\",\n",
    "    \"import_policy\",\n",
    "    \"export_policy\",\n",
    "]\n",
    "\n",
    "# drop them from your DataFrame\n",
    "df = df.drop(columns=cols_to_drop)\n",
    "df.to_excel(f\"{output_path}/{input_file}_clean_norm.xlsx\", index=False)\n"
   ]
  },
  {
   "cell_type": "code",
   "execution_count": null,
   "id": "e346e291",
   "metadata": {},
   "outputs": [],
   "source": [
    "level_col = \"level\"\n",
    "remark_col = \"remark\"\n",
    "note_text_cols = [\"item_description\", \"import_policy_text\", \"export_policy_text\"]\n",
    "hs_code_col = \"hs_code\"\n",
    "\n",
    "# Build and save\n",
    "hierarchy = build_hierarchy(\n",
    "    df,\n",
    "    level_col=level_col,\n",
    "    remark_col=remark_col,\n",
    "    note_text_cols=note_text_cols,\n",
    "    hs_code_col=hs_code_col,\n",
    ")\n",
    "\n",
    "with open(f\"{output_path}/hierarchy.json\", \"w\", encoding=\"utf-8\") as fp:\n",
    "    json.dump(hierarchy, fp, indent=2, ensure_ascii=False)\n",
    "\n",
    "print(\n",
    "    f\"Saved hierarchical JSON with {len(hierarchy)} top-level nodes to {output_path}/hierarchy.json\"\n",
    ")\n"
   ]
  },
  {
   "cell_type": "code",
   "execution_count": 9,
   "id": "528f597f",
   "metadata": {},
   "outputs": [],
   "source": [
    "# Flatten the hierarchy with inherited notes\n",
    "docs = flatten_hsn_json_with_inherited(input_file=f\"{output_path}/hierarchy.json\")\n",
    "\n",
    "# Write flattened documents to JSON\n",
    "with open(f\"{output_path}/flattened.json\", \"w\", encoding=\"utf-8\") as out:\n",
    "    json.dump(docs, out, ensure_ascii=False, indent=2)\n"
   ]
  }
 ],
 "metadata": {
  "kernelspec": {
   "display_name": ".venv",
   "language": "python",
   "name": "python3"
  },
  "language_info": {
   "codemirror_mode": {
    "name": "ipython",
    "version": 3
   },
   "file_extension": ".py",
   "mimetype": "text/x-python",
   "name": "python",
   "nbconvert_exporter": "python",
   "pygments_lexer": "ipython3",
   "version": "3.12.3"
  }
 },
 "nbformat": 4,
 "nbformat_minor": 5
}
